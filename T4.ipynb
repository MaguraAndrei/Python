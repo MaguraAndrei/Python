{
  "nbformat": 4,
  "nbformat_minor": 0,
  "metadata": {
    "colab": {
      "provenance": []
    },
    "kernelspec": {
      "name": "python3",
      "display_name": "Python 3"
    },
    "language_info": {
      "name": "python"
    }
  },
  "cells": [
    {
      "cell_type": "code",
      "execution_count": null,
      "metadata": {
        "colab": {
          "base_uri": "https://localhost:8080/"
        },
        "id": "XldFYm7PHeFQ",
        "outputId": "9750362a-e1fb-41b7-a82b-48eb9f4be661"
      },
      "outputs": [
        {
          "output_type": "stream",
          "name": "stdout",
          "text": [
            "       ResponseId                      MainBranch                 Age  \\\n",
            "0               1  I am a developer by profession  Under 18 years old   \n",
            "1               2  I am a developer by profession     35-44 years old   \n",
            "2               3  I am a developer by profession     45-54 years old   \n",
            "3               4           I am learning to code     18-24 years old   \n",
            "4               5  I am a developer by profession     18-24 years old   \n",
            "...           ...                             ...                 ...   \n",
            "65432       65433  I am a developer by profession     18-24 years old   \n",
            "65433       65434  I am a developer by profession     25-34 years old   \n",
            "65434       65435  I am a developer by profession     25-34 years old   \n",
            "65435       65436  I am a developer by profession     18-24 years old   \n",
            "65436       65437     I code primarily as a hobby     18-24 years old   \n",
            "\n",
            "                Employment                            RemoteWork   Check  \\\n",
            "0      Employed, full-time                                Remote  Apples   \n",
            "1      Employed, full-time                                Remote  Apples   \n",
            "2      Employed, full-time                                Remote  Apples   \n",
            "3       Student, full-time                                   NaN  Apples   \n",
            "4       Student, full-time                                   NaN  Apples   \n",
            "...                    ...                                   ...     ...   \n",
            "65432  Employed, full-time                                Remote  Apples   \n",
            "65433  Employed, full-time                                Remote  Apples   \n",
            "65434  Employed, full-time                             In-person  Apples   \n",
            "65435  Employed, full-time  Hybrid (some remote, some in-person)  Apples   \n",
            "65436   Student, full-time                                   NaN  Apples   \n",
            "\n",
            "                                        CodingActivities  \\\n",
            "0                                                  Hobby   \n",
            "1      Hobby;Contribute to open-source projects;Other...   \n",
            "2      Hobby;Contribute to open-source projects;Other...   \n",
            "3                                                    NaN   \n",
            "4                                                    NaN   \n",
            "...                                                  ...   \n",
            "65432                      Hobby;School or academic work   \n",
            "65433           Hobby;Contribute to open-source projects   \n",
            "65434                                              Hobby   \n",
            "65435  Hobby;Contribute to open-source projects;Profe...   \n",
            "65436                                                NaN   \n",
            "\n",
            "                                                 EdLevel  \\\n",
            "0                              Primary/elementary school   \n",
            "1           Bachelor’s degree (B.A., B.S., B.Eng., etc.)   \n",
            "2        Master’s degree (M.A., M.S., M.Eng., MBA, etc.)   \n",
            "3      Some college/university study without earning ...   \n",
            "4      Secondary school (e.g. American high school, G...   \n",
            "...                                                  ...   \n",
            "65432       Bachelor’s degree (B.A., B.S., B.Eng., etc.)   \n",
            "65433                                                NaN   \n",
            "65434       Bachelor’s degree (B.A., B.S., B.Eng., etc.)   \n",
            "65435  Secondary school (e.g. American high school, G...   \n",
            "65436                                                NaN   \n",
            "\n",
            "                                               LearnCode  \\\n",
            "0                                 Books / Physical media   \n",
            "1      Books / Physical media;Colleague;On the job tr...   \n",
            "2      Books / Physical media;Colleague;On the job tr...   \n",
            "3      Other online resources (e.g., videos, blogs, f...   \n",
            "4      Other online resources (e.g., videos, blogs, f...   \n",
            "...                                                  ...   \n",
            "65432  On the job training;School (i.e., University, ...   \n",
            "65433                                                NaN   \n",
            "65434  Other online resources (e.g., videos, blogs, f...   \n",
            "65435  On the job training;Other online resources (e....   \n",
            "65436                                                NaN   \n",
            "\n",
            "                                         LearnCodeOnline  ... JobSatPoints_6  \\\n",
            "0                                                    NaN  ...            NaN   \n",
            "1      Technical documentation;Blogs;Books;Written Tu...  ...            0.0   \n",
            "2      Technical documentation;Blogs;Books;Written Tu...  ...            NaN   \n",
            "3      Stack Overflow;How-to videos;Interactive tutorial  ...            NaN   \n",
            "4      Technical documentation;Blogs;Written Tutorial...  ...            NaN   \n",
            "...                                                  ...  ...            ...   \n",
            "65432                                                NaN  ...            NaN   \n",
            "65433                                                NaN  ...            NaN   \n",
            "65434  Technical documentation;Stack Overflow;Social ...  ...            NaN   \n",
            "65435  Technical documentation;Blogs;Written Tutorial...  ...            0.0   \n",
            "65436                                                NaN  ...            NaN   \n",
            "\n",
            "      JobSatPoints_7 JobSatPoints_8 JobSatPoints_9 JobSatPoints_10  \\\n",
            "0                NaN            NaN            NaN             NaN   \n",
            "1                0.0            0.0            0.0             0.0   \n",
            "2                NaN            NaN            NaN             NaN   \n",
            "3                NaN            NaN            NaN             NaN   \n",
            "4                NaN            NaN            NaN             NaN   \n",
            "...              ...            ...            ...             ...   \n",
            "65432            NaN            NaN            NaN             NaN   \n",
            "65433            NaN            NaN            NaN             NaN   \n",
            "65434            NaN            NaN            NaN             NaN   \n",
            "65435            0.0            0.0            0.0             0.0   \n",
            "65436            NaN            NaN            NaN             NaN   \n",
            "\n",
            "      JobSatPoints_11           SurveyLength SurveyEase ConvertedCompYearly  \\\n",
            "0                 NaN                    NaN        NaN                 NaN   \n",
            "1                 0.0                    NaN        NaN                 NaN   \n",
            "2                 NaN  Appropriate in length       Easy                 NaN   \n",
            "3                 NaN               Too long       Easy                 NaN   \n",
            "4                 NaN              Too short       Easy                 NaN   \n",
            "...               ...                    ...        ...                 ...   \n",
            "65432             NaN                    NaN        NaN                 NaN   \n",
            "65433             NaN                    NaN        NaN                 NaN   \n",
            "65434             NaN                    NaN        NaN                 NaN   \n",
            "65435             0.0                    NaN        NaN                 NaN   \n",
            "65436             NaN                    NaN        NaN                 NaN   \n",
            "\n",
            "      JobSat  \n",
            "0        NaN  \n",
            "1        NaN  \n",
            "2        NaN  \n",
            "3        NaN  \n",
            "4        NaN  \n",
            "...      ...  \n",
            "65432    NaN  \n",
            "65433    NaN  \n",
            "65434    NaN  \n",
            "65435    NaN  \n",
            "65436    NaN  \n",
            "\n",
            "[65437 rows x 114 columns]\n"
          ]
        }
      ],
      "source": [
        "import pandas as pd\n",
        "\n",
        "# Path to the CSV file in Google Drive\n",
        "file_path = '/content/drive/MyDrive/Colab Notebooks/survey_results_public.csv'\n",
        "\n",
        "# Read the CSV file into a DataFrame\n",
        "df = pd.read_csv('/content/drive/MyDrive/Colab Notebooks/survey_results_public.csv')\n",
        "\n",
        "# Display the DataFrame\n",
        "print(df)\n",
        "\n"
      ]
    },
    {
      "cell_type": "code",
      "source": [
        "# Numărul total de respondenți\n",
        "total_respondenți = df.shape[0]\n",
        "print(f'Câți respondenți au completat sondajul: {total_respondenți}')"
      ],
      "metadata": {
        "id": "2xFjm1ISJB5L",
        "colab": {
          "base_uri": "https://localhost:8080/"
        },
        "outputId": "853e17e7-8773-4db2-86e2-3b038d2e4063"
      },
      "execution_count": null,
      "outputs": [
        {
          "output_type": "stream",
          "name": "stdout",
          "text": [
            "Câți respondenți au completat sondajul: 65437\n"
          ]
        }
      ]
    },
    {
      "cell_type": "code",
      "source": [
        "# Verifică pentru rânduri fără valori lipsă\n",
        "respondenți_compleți = df.dropna().shape[0]\n",
        "print(f'Câți respondenți au răspuns la toate întrebările: {respondenți_compleți}')\n"
      ],
      "metadata": {
        "colab": {
          "base_uri": "https://localhost:8080/"
        },
        "id": "nzQOE8wd8Gfc",
        "outputId": "b7491500-753b-4ac6-9c2b-e2330b639fdc"
      },
      "execution_count": null,
      "outputs": [
        {
          "output_type": "stream",
          "name": "stdout",
          "text": [
            "Câți respondenți au răspuns la toate întrebările: 0\n"
          ]
        }
      ]
    },
    {
      "cell_type": "code",
      "source": [
        "# Verifică valorile de tendință centrală pentru WorkExp\n",
        "workexp_stats = df['WorkExp'].describe()\n",
        "print('Valorile măsurilor de tendință centrală pentru WorkExp:')\n",
        "print(workexp_stats[['mean', '50%']])  # media și mediana\n"
      ],
      "metadata": {
        "colab": {
          "base_uri": "https://localhost:8080/"
        },
        "id": "0x_8S0mJ8MCk",
        "outputId": "f52661a2-19c9-4f2f-adaa-01adc01269db"
      },
      "execution_count": null,
      "outputs": [
        {
          "output_type": "stream",
          "name": "stdout",
          "text": [
            "Valorile măsurilor de tendință centrală pentru WorkExp:\n",
            "mean    11.466957\n",
            "50%      9.000000\n",
            "Name: WorkExp, dtype: float64\n"
          ]
        }
      ]
    },
    {
      "cell_type": "code",
      "source": [
        "# Numără respondenții care lucrează de la distanță\n",
        "lucrează_de_la_distanță = df[df['RemoteWork'] == 'Remote'].shape[0]\n",
        "print(f'Câți respondenți lucrează de la distanță: {lucrează_de_la_distanță}')\n"
      ],
      "metadata": {
        "colab": {
          "base_uri": "https://localhost:8080/"
        },
        "id": "bjPST0gK8TEQ",
        "outputId": "751999f3-2561-4085-8564-680de63f3a96"
      },
      "execution_count": null,
      "outputs": [
        {
          "output_type": "stream",
          "name": "stdout",
          "text": [
            "Câți respondenți lucrează de la distanță: 20831\n"
          ]
        }
      ]
    },
    {
      "cell_type": "code",
      "source": [
        "# 5. Ce procent de respondenți programează în Python?\n",
        "python_procent = df['LanguageHaveWorkedWith'].str.contains('Python', na=False).mean() * 100\n",
        "print(f\"Procent de respondenți care programează în Python: {python_procent:.2f}%\")"
      ],
      "metadata": {
        "id": "S6E5UY4j853s",
        "colab": {
          "base_uri": "https://localhost:8080/"
        },
        "outputId": "9a999daf-1c51-4f41-c42f-5872808c8666"
      },
      "execution_count": null,
      "outputs": [
        {
          "output_type": "stream",
          "name": "stdout",
          "text": [
            "Procent de respondenți care programează în Python: 47.06%\n"
          ]
        }
      ]
    },
    {
      "cell_type": "code",
      "source": [
        "# 6. Câți respondenți au învățat să programeze prin cursuri online?\n",
        "învatat_online = df['LearnCodeOnline'].str.contains('Online', na=False).sum()\n",
        "print(f\"Total respondenți care au învățat să programeze prin cursuri online: {învatat_online}\")"
      ],
      "metadata": {
        "id": "wGfTnsz29SCq",
        "colab": {
          "base_uri": "https://localhost:8080/"
        },
        "outputId": "d0e91402-fe3c-41ac-a302-d6562b26e63e"
      },
      "execution_count": null,
      "outputs": [
        {
          "output_type": "stream",
          "name": "stdout",
          "text": [
            "Total respondenți care au învățat să programeze prin cursuri online: 33687\n"
          ]
        }
      ]
    },
    {
      "cell_type": "code",
      "source": [
        "# 7. Dintre respondenții care programează în Python, grupați pe țări, care este valoarea medie și mediană a remunerației (ConvertedCompYearly) în fiecare țară?\n",
        "python_respondenți = df[df['LanguageHaveWorkedWith'].str.contains('Python', na=False)]\n",
        "remunerație_stats = python_respondenți.groupby('Country')['ConvertedCompYearly'].agg(['mean', 'median']).dropna()\n",
        "print(\"Valoarea medie și mediană a remunerației (ConvertedCompYearly) pentru cei care programează în Python, grupate pe țări:\")\n",
        "print(remunerație_stats)"
      ],
      "metadata": {
        "id": "tjBWNd9VLfdC",
        "colab": {
          "base_uri": "https://localhost:8080/"
        },
        "outputId": "7b7767ea-f0aa-46d6-d886-22d5f77a5e3b"
      },
      "execution_count": null,
      "outputs": [
        {
          "output_type": "stream",
          "name": "stdout",
          "text": [
            "Valoarea medie și mediană a remunerației (ConvertedCompYearly) pentru cei care programează în Python, grupate pe țări:\n",
            "                                               mean    median\n",
            "Country                                                      \n",
            "Afghanistan                             4543.000000    4768.5\n",
            "Albania                                56295.000000   56295.0\n",
            "Algeria                                 9053.285714    6230.0\n",
            "Andorra                               193331.000000  193331.0\n",
            "Angola                                     6.000000       6.0\n",
            "...                                             ...       ...\n",
            "Venezuela, Bolivarian Republic of...   21500.000000    7100.0\n",
            "Viet Nam                               14014.562500   10180.0\n",
            "Yemen                                  10297.333333    5333.0\n",
            "Zambia                                 28123.666667   22803.0\n",
            "Zimbabwe                               37500.000000   18000.0\n",
            "\n",
            "[151 rows x 2 columns]\n"
          ]
        }
      ]
    },
    {
      "cell_type": "code",
      "source": [
        "# 8. Ce nivel de educație au cei 5 respondenți cu cea mai mare compensație?\n",
        "top_5_respondenți = df.nlargest(5, 'ConvertedCompYearly')[['EdLevel', 'ConvertedCompYearly']]\n",
        "print(\"Nivelul de educație al celor 5 respondenți cu cea mai mare compensație:\")\n",
        "print(top_5_respondenți)"
      ],
      "metadata": {
        "colab": {
          "base_uri": "https://localhost:8080/"
        },
        "id": "0huqdQ-sMUq2",
        "outputId": "f30915c7-b127-416a-b6d4-415437ce8453"
      },
      "execution_count": null,
      "outputs": [
        {
          "output_type": "stream",
          "name": "stdout",
          "text": [
            "Nivelul de educație al celor 5 respondenți cu cea mai mare compensație:\n",
            "                                              EdLevel  ConvertedCompYearly\n",
            "15837    Bachelor’s degree (B.A., B.S., B.Eng., etc.)           16256603.0\n",
            "12723  Professional degree (JD, MD, Ph.D, Ed.D, etc.)           13818022.0\n",
            "28379  Professional degree (JD, MD, Ph.D, Ed.D, etc.)            9000000.0\n",
            "17593    Bachelor’s degree (B.A., B.S., B.Eng., etc.)            6340564.0\n",
            "17672  Professional degree (JD, MD, Ph.D, Ed.D, etc.)            4936778.0\n"
          ]
        }
      ]
    },
    {
      "cell_type": "code",
      "source": [
        "# Eliminăm valorile lipsă din coloanele 'Age' și 'LanguageHaveWorkedWith'\n",
        "df_age_python = df[['Age', 'LanguageHaveWorkedWith']].dropna()\n",
        "\n",
        "# Grupăm pe vârste și calculăm procentul celor care programează în Python\n",
        "python_percent_by_age = df_age_python.groupby('Age')['LanguageHaveWorkedWith'].apply(\n",
        "    lambda x: (x.str.contains('Python', na=False).mean()) * 100\n",
        "    )\n",
        "\n",
        "print(\"Procentul de respondenți care programează în Python pentru fiecare grupă de vârstă:\")\n",
        "print(python_percent_by_age)"
      ],
      "metadata": {
        "colab": {
          "base_uri": "https://localhost:8080/"
        },
        "id": "KEo836a7LoA9",
        "outputId": "4ee8b67a-53a2-4722-9f55-cb78f7843629"
      },
      "execution_count": null,
      "outputs": [
        {
          "output_type": "stream",
          "name": "stdout",
          "text": [
            "Procentul de respondenți care programează în Python pentru fiecare grupă de vârstă:\n",
            "Age\n",
            "18-24 years old       63.416988\n",
            "25-34 years old       50.310274\n",
            "35-44 years old       44.604213\n",
            "45-54 years old       44.314721\n",
            "55-64 years old       42.437831\n",
            "65 years or older     40.845070\n",
            "Prefer not to say     56.809339\n",
            "Under 18 years old    71.841311\n",
            "Name: LanguageHaveWorkedWith, dtype: float64\n"
          ]
        }
      ]
    },
    {
      "cell_type": "code",
      "source": [
        "\n",
        "\n",
        "# Filtrăm respondenții care au lucrat în regim de \"remote\" (parțial sau total)\n",
        "remote_workers = df[df['RemoteWork'].str.contains('remote', case=False, na=False)][['ConvertedCompYearly', 'Industry']].dropna()\n",
        "\n",
        "# Verificăm distribuția remunerației pentru cei care lucrează în regim \"remote\"\n",
        "print(\"Distribuția remunerației pentru cei care lucrează în regim 'remote':\")\n",
        "print(remote_workers['ConvertedCompYearly'].describe())\n",
        "\n",
        "# Calculăm valoarea a 75-a percentilă a remunerației pentru acești respondenți\n",
        "percentile_75 = remote_workers['ConvertedCompYearly'].quantile(0.75)\n",
        "\n",
        "# Filtrăm respondenții care au o remunerație mai mare sau egală cu această valoare\n",
        "top_earners_remote = remote_workers[remote_workers['ConvertedCompYearly'] >= percentile_75]\n",
        "\n",
        "# Calculăm frecvențele industriilor în acest grup\n",
        "industry_frequencies = top_earners_remote['Industry'].value_counts()\n",
        "\n",
        "print(f\"Industriile cele mai frecvente pentru respondenții din a 75-a percentilă a remunerației medii care lucrează în regim 'remote':\")\n",
        "print(industry_frequencies)"
      ],
      "metadata": {
        "colab": {
          "base_uri": "https://localhost:8080/"
        },
        "id": "NGXulnASL8q2",
        "outputId": "61c30198-ebe2-43d8-caed-16b40c5fff35"
      },
      "execution_count": null,
      "outputs": [
        {
          "output_type": "stream",
          "name": "stdout",
          "text": [
            "Distribuția remunerației pentru cei care lucrează în regim 'remote':\n",
            "count    1.332200e+04\n",
            "mean     9.053620e+04\n",
            "std      1.819428e+05\n",
            "min      1.000000e+00\n",
            "25%      3.885325e+04\n",
            "50%      7.088800e+04\n",
            "75%      1.140000e+05\n",
            "max      1.381802e+07\n",
            "Name: ConvertedCompYearly, dtype: float64\n",
            "Industriile cele mai frecvente pentru respondenții din a 75-a percentilă a remunerației medii care lucrează în regim 'remote':\n",
            "Industry\n",
            "Software Development                          1132\n",
            "Other:                                         377\n",
            "Fintech                                        264\n",
            "Internet, Telecomm or Information Services     220\n",
            "Healthcare                                     216\n",
            "Banking/Financial Services                     185\n",
            "Retail and Consumer Services                   174\n",
            "Media & Advertising Services                   131\n",
            "Government                                     126\n",
            "Computer Systems Design and Services           118\n",
            "Transportation, or Supply Chain                108\n",
            "Manufacturing                                  102\n",
            "Insurance                                       72\n",
            "Energy                                          57\n",
            "Higher Education                                53\n",
            "Name: count, dtype: int64\n"
          ]
        }
      ]
    }
  ]
}